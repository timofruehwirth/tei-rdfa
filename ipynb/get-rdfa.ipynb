{
 "cells": [
  {
   "cell_type": "code",
   "execution_count": 22,
   "metadata": {},
   "outputs": [],
   "source": [
    "from lxml import etree   # import etree functionality from lxml library\n",
    "import urllib.request  # import urllib.request module for opening URLs\n",
    "import os  # import os module for interacting with OS"
   ]
  },
  {
   "cell_type": "code",
   "execution_count": 23,
   "metadata": {},
   "outputs": [],
   "source": [
    "def get_rdfa(xmlfile: str):  # define function with parameters\n",
    "    \n",
    "    # check XML file extension\n",
    "    if not xmlfile.lower().endswith('.xml'):\n",
    "        raise ValueError('Invalid file format.')\n",
    "\n",
    "    # try loading XML file\n",
    "    try:\n",
    "        if xmlfile.startswith('http://') or xmlfile.startswith('https://'):  # check if XML file has URL source\n",
    "            with urllib.request.urlopen(xmlfile) as response:  # send request to URL to open XML file\n",
    "                xml_bytes = response.read()  # read URL raw byte content\n",
    "                tree = etree.ElementTree(etree.fromstring(xml_bytes))  # parse raw bytes into XML element structure and wrap structure inside ElementTree\n",
    "        elif os.path.isfile(xmlfile):  # check if XML file exists locally\n",
    "            with open(xmlfile, 'rb') as xml_file:  # open XML file in binary mode\n",
    "                tree = etree.parse(xml_file)  # parse XML file object directly into ElementTree\n",
    "        else:\n",
    "            raise ValueError('Invalid file path or URL format.')\n",
    "\n",
    "        # feedback successful parsing\n",
    "        root = tree.getroot()  # retrieve XML-tree root element\n",
    "        print(f'Successfully loaded {xmlfile}.\\n'\n",
    "            f'XML root element {root.tag} has direct child elements ' + ', '.join(element.tag for element in root) + '.')\n",
    "\n",
    "    except Exception as e:  # catch exception, store details\n",
    "        raise OSError(f'Error loading XML file: {e}.')  # feedback exception details"
   ]
  },
  {
   "cell_type": "code",
   "execution_count": 24,
   "metadata": {},
   "outputs": [
    {
     "name": "stdout",
     "output_type": "stream",
     "text": [
      "Successfully loaded https://raw.githubusercontent.com/auden-in-austria-digital/aad-data/refs/heads/dev/data/xml/editions/aad-transcript__0032.xml.\n",
      "XML root element {http://www.tei-c.org/ns/1.0}TEI has direct child elements {http://www.tei-c.org/ns/1.0}teiHeader, {http://www.tei-c.org/ns/1.0}facsimile, {http://www.tei-c.org/ns/1.0}text.\n"
     ]
    }
   ],
   "source": [
    "get_rdfa('https://raw.githubusercontent.com/auden-in-austria-digital/aad-data/refs/heads/dev/data/xml/editions/aad-transcript__0032.xml')"
   ]
  }
 ],
 "metadata": {
  "kernelspec": {
   "display_name": "venv",
   "language": "python",
   "name": "python3"
  },
  "language_info": {
   "codemirror_mode": {
    "name": "ipython",
    "version": 3
   },
   "file_extension": ".py",
   "mimetype": "text/x-python",
   "name": "python",
   "nbconvert_exporter": "python",
   "pygments_lexer": "ipython3",
   "version": "3.12.3"
  }
 },
 "nbformat": 4,
 "nbformat_minor": 2
}
