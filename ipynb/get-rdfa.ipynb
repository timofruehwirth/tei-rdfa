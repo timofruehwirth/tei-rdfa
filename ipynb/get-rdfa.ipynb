{
 "cells": [
  {
   "cell_type": "code",
   "execution_count": null,
   "metadata": {},
   "outputs": [],
   "source": [
    "from lxml import etree   # import etree functionality from lxml library\n",
    "import urllib.request  # import urllib.request module for URL handling\n",
    "import os  # import os module for OS interaction\n",
    "import rdflib  # import rdflib library for RDF graph processing\n",
    "import pyRdfa  # import pyRdfa library for RDFa parsing"
   ]
  },
  {
   "cell_type": "code",
   "execution_count": 2,
   "metadata": {},
   "outputs": [],
   "source": [
    "def get_rdfa(xmlfile: str):  # define function with parameters\n",
    "    \n",
    "    # check XML file extension\n",
    "    if not xmlfile.lower().endswith('.xml'):\n",
    "        raise ValueError('Invalid file format.')\n",
    "\n",
    "    # try loading XML file\n",
    "    try:\n",
    "        if xmlfile.startswith('http://') or xmlfile.startswith('https://'):  # check if XML file has URL source\n",
    "            with urllib.request.urlopen(xmlfile) as response:  # send request to URL to open XML file\n",
    "                xml_bytes = response.read()  # read URL raw byte content\n",
    "                tree = etree.ElementTree(etree.fromstring(xml_bytes))  # parse raw bytes into XML element structure and wrap structure inside ElementTree\n",
    "            xml_source = xmlfile  # pass XML file URL to variable\n",
    "        elif os.path.isfile(xmlfile):  # check if XML file exists locally\n",
    "            with open(xmlfile, 'rb') as xml_file:  # open XML file in binary mode\n",
    "                tree = etree.parse(xml_file)  # parse XML file object directly into ElementTree\n",
    "            xml_source = 'file://' + os.path.abspath(xmlfile)  # pass XML file URI to variable\n",
    "        else:\n",
    "            raise ValueError('Invalid file path or URL format.')\n",
    "\n",
    "        # feedback successful XML parsing\n",
    "        root = tree.getroot()  # retrieve XML-tree root element\n",
    "        print(f'Successfully loaded {xmlfile}.\\n'\n",
    "            f'XML root element {root.tag} has direct child elements ' + ', '.join(element.tag for element in root) + '.')  # join list of tag names into comma-separated string\n",
    "        \n",
    "        # Parse RDFa content using pyRdfa\n",
    "        # Create an empty rdflib graph to store the triples\n",
    "        g = rdflib.Graph()\n",
    "        \n",
    "        # Use pyRdfa to extract RDFa and add to the graph\n",
    "        rdfa_parser = pyRdfa.pyRdfa()\n",
    "        result = rdfa_parser.graph_from_source(xml_source, graph=g)\n",
    "        \n",
    "        # Simple output of RDFa triples\n",
    "        print(f\"\\nFound {len(result)} RDFa triples:\")\n",
    "        if len(result) > 0:\n",
    "            for subject, predicate, obj in result:\n",
    "                print(f\"{subject} - {predicate} - {obj}\")\n",
    "        else:\n",
    "            print(\"No RDFa content found in the XML file.\")\n",
    "        \n",
    "        return result  # Return the RDFa graph for further processing\n",
    "\n",
    "    except Exception as e:  # catch exception, store details\n",
    "        raise OSError(f'Error loading XML file: {e}.')  # feedback exception details"
   ]
  },
  {
   "cell_type": "code",
   "execution_count": 3,
   "metadata": {},
   "outputs": [
    {
     "name": "stdout",
     "output_type": "stream",
     "text": [
      "Successfully loaded https://raw.githubusercontent.com/auden-in-austria-digital/aad-data/refs/heads/dev/data/xml/editions/aad-transcript__0032.xml.\n",
      "XML root element {http://www.tei-c.org/ns/1.0}TEI has direct child elements {http://www.tei-c.org/ns/1.0}teiHeader, {http://www.tei-c.org/ns/1.0}facsimile, {http://www.tei-c.org/ns/1.0}text.\n"
     ]
    },
    {
     "name": "stderr",
     "output_type": "stream",
     "text": [
      "rdf:RDF xmlns:rdf=\"http://www.w3.org/1999/02/22-rdf-syntax-ns#\" xml:base=\"https://id.acdh.oeaw.ac.at/auden-in-austria-digital\" xmlns:xsi=\"http://www.w3.org/2001/XMLSchema-instance\" xmlns=\"http://www.tei-c.org/ns/1.0\"/ does not look like a valid URI, trying to serialize this will break.\n"
     ]
    },
    {
     "name": "stdout",
     "output_type": "stream",
     "text": [
      "\n",
      "Found 8 RDFa triples:\n",
      "https://amp.acdh.oeaw.ac.at/amp_person_254.html - http://www.w3.org/2000/01/rdf-schema#label - Gäste\n",
      "wd:Q62566483 - http://www.w3.org/2000/01/rdf-schema#label - Thekla Clark\n",
      "https://amp.acdh.oeaw.ac.at/amp_person_254.html - crm:P107_has_current_or_former_member - wd:Q62566483\n",
      "wd:Q123679692 - http://www.w3.org/2000/01/rdf-schema#label - John Clark\n",
      "https://amp.acdh.oeaw.ac.at/amp_person_254.html - crm:P107_has_current_or_former_member - wd:Q123679692\n",
      "wd:Q123679692 - http://www.w3.org/1999/02/22-rdf-syntax-ns#type - crm:E21_Person\n",
      "wd:Q62566483 - http://www.w3.org/1999/02/22-rdf-syntax-ns#type - crm:E21_Person\n",
      "https://amp.acdh.oeaw.ac.at/amp_person_254.html - http://www.w3.org/1999/02/22-rdf-syntax-ns#type - crm:E74_Group\n"
     ]
    },
    {
     "data": {
      "text/plain": [
       "<Graph identifier=N7839e193007d49b1a020bb315a1643f1 (<class 'rdflib.graph.Graph'>)>"
      ]
     },
     "execution_count": 3,
     "metadata": {},
     "output_type": "execute_result"
    }
   ],
   "source": [
    "get_rdfa('https://raw.githubusercontent.com/auden-in-austria-digital/aad-data/refs/heads/dev/data/xml/editions/aad-transcript__0032.xml')"
   ]
  }
 ],
 "metadata": {
  "kernelspec": {
   "display_name": "venv",
   "language": "python",
   "name": "python3"
  },
  "language_info": {
   "codemirror_mode": {
    "name": "ipython",
    "version": 3
   },
   "file_extension": ".py",
   "mimetype": "text/x-python",
   "name": "python",
   "nbconvert_exporter": "python",
   "pygments_lexer": "ipython3",
   "version": "3.12.3"
  }
 },
 "nbformat": 4,
 "nbformat_minor": 2
}
