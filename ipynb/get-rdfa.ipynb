{
 "cells": [
  {
   "cell_type": "code",
   "execution_count": 40,
   "metadata": {},
   "outputs": [],
   "source": [
    "from lxml import etree   # import etree functionality from lxml library\n",
    "import urllib.request  # import urllib.request module for opening URLs\n",
    "import os  # import os module for interacting with OS"
   ]
  },
  {
   "cell_type": "code",
   "execution_count": null,
   "metadata": {},
   "outputs": [],
   "source": [
    "def get_rdfa(xmlfile: str):  # define function and parameters\n",
    "    \n",
    "    # check XML file extension\n",
    "    if not xmlfile.lower().endswith(\".xml\"):\n",
    "        raise ValueError(\"XML file format required.\")\n",
    "\n",
    "    # try opening XML file\n",
    "    try:\n",
    "        if xmlfile.startswith('http://') or xmlfile.startswith('https://'):\n",
    "            with urllib.request.urlopen(xmlfile) as response:  # open xml file from URL\n",
    "                xml_bytes = response.read()  # reads URL raw byte content\n",
    "                tree = etree.ElementTree(etree.fromstring(xml_bytes))  # parse raw bytes ino\n",
    "        elif os.path.isfile(xmlfile):  # Check if file exists\n",
    "            # Handle local file\n",
    "            with open(xmlfile, \"rb\") as file:  # Open in binary mode\n",
    "                tree = etree.parse(file)  # Directly parse file\n",
    "        else:\n",
    "            raise ValueError(\"Invalid file path or URL format.\")\n",
    "\n",
    "        # ✅ Print root element to confirm successful parsing\n",
    "        root = tree.getroot()\n",
    "        print(f\"✅ Successfully loaded XML file: {xmlfile}\")\n",
    "        print(f\"Root element: {root.tag}\")\n",
    "\n",
    "        # ✅ Print the first few child elements (optional)\n",
    "        print(\"First few elements:\")\n",
    "        for i, element in enumerate(root[:5]):  # Show only the first 5 elements\n",
    "            print(f\"- {element.tag}\")\n",
    "\n",
    "    except Exception as e:\n",
    "        raise IOError(f\"Error loading XML: {e}\")"
   ]
  },
  {
   "cell_type": "code",
   "execution_count": 42,
   "metadata": {},
   "outputs": [
    {
     "name": "stdout",
     "output_type": "stream",
     "text": [
      "✅ Successfully loaded XML file: https://raw.githubusercontent.com/auden-in-austria-digital/aad-data/refs/heads/dev/data/xml/editions/aad-transcript__0032.xml\n",
      "Root element: {http://www.tei-c.org/ns/1.0}TEI\n",
      "First few elements:\n",
      "- {http://www.tei-c.org/ns/1.0}teiHeader\n",
      "- {http://www.tei-c.org/ns/1.0}facsimile\n",
      "- {http://www.tei-c.org/ns/1.0}text\n"
     ]
    }
   ],
   "source": [
    "tree = get_rdfa('https://raw.githubusercontent.com/auden-in-austria-digital/aad-data/refs/heads/dev/data/xml/editions/aad-transcript__0032.xml')"
   ]
  }
 ],
 "metadata": {
  "kernelspec": {
   "display_name": "venv",
   "language": "python",
   "name": "python3"
  },
  "language_info": {
   "codemirror_mode": {
    "name": "ipython",
    "version": 3
   },
   "file_extension": ".py",
   "mimetype": "text/x-python",
   "name": "python",
   "nbconvert_exporter": "python",
   "pygments_lexer": "ipython3",
   "version": "3.12.3"
  }
 },
 "nbformat": 4,
 "nbformat_minor": 2
}
